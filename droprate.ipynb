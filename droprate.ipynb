{
  "cells": [
    {
      "cell_type": "code",
      "source": [
        "import numpy as np\n",
        "import matplotlib.pyplot as plt\n",
        "from scipy.stats import nbinom\n",
        "from ipywidgets import interact, IntSlider"
      ],
      "outputs": [],
      "execution_count": null,
      "metadata": {
        "noteable": {
          "cell_type": "code"
        },
        "ExecuteTime": {
          "end_time": "2023-07-28T10:30:06.485154+00:00",
          "start_time": "2023-07-28T10:30:05.603151+00:00"
        }
      },
      "id": "8a7e34a9-ab07-4d7e-bde0-27b4c4080311"
    },
    {
      "cell_type": "code",
      "source": [
        "def calculate_likelihood_theoretical(droprate, hits_needed, kc_values):\n",
        "    p = 1 / droprate\n",
        "    likelihoods = [nbinom.cdf(kc, hits_needed, p) for kc in kc_values]\n",
        "    return likelihoods"
      ],
      "outputs": [],
      "execution_count": null,
      "metadata": {
        "noteable": {
          "cell_type": "code"
        },
        "ExecuteTime": {
          "end_time": "2023-07-28T10:30:19.541877+00:00",
          "start_time": "2023-07-28T10:30:19.384387+00:00"
        }
      },
      "id": "77030861-4186-4787-be57-401f9c17cb5d"
    },
    {
      "cell_type": "code",
      "source": [
        "def plot_likelihoods(x=500, y=3):\n",
        "    droprate = x\n",
        "    hits_needed = y\n",
        "    kc_values = list(range(0, 5001, 25))\n",
        "\n",
        "    likelihoods_1 = calculate_likelihood_theoretical(droprate, hits_needed, kc_values)\n",
        "    likelihoods_2 = calculate_likelihood_theoretical(y*droprate, 1, kc_values)\n",
        "\n",
        "    plt.figure(figsize=(10, 6))\n",
        "    plt.plot(kc_values, likelihoods_1, marker='o', markersize=2, label=f'1/{droprate} drop rate, {hits_needed} hits')\n",
        "    plt.plot(kc_values, likelihoods_2, marker='o', markersize=2, label=f'1/{y*droprate} drop rate, 1 hit')\n",
        "    plt.title('Likelihood of Completion by Kill Count (Theoretical)')\n",
        "    plt.xlabel('Kill Count')\n",
        "    plt.ylabel('Likelihood of Completion')\n",
        "    plt.xlim(0, 5000)\n",
        "    plt.legend(loc='lower right')\n",
        "    plt.grid(True)\n",
        "    plt.show()"
      ],
      "outputs": [],
      "execution_count": null,
      "metadata": {
        "noteable": {
          "cell_type": "code"
        },
        "ExecuteTime": {
          "end_time": "2023-07-28T10:30:46.154232+00:00",
          "start_time": "2023-07-28T10:30:45.993386+00:00"
        }
      },
      "id": "94eb28ef-9e8b-46a7-962b-6f47d86a2307"
    },
    {
      "cell_type": "code",
      "source": [
        "interact(plot_likelihoods, x=IntSlider(min=100, max=1000, step=100, value=500), y=IntSlider(min=1, max=10, step=1, value=3))"
      ],
      "outputs": [
        {
          "output_type": "display_data",
          "data": {
            "application/vnd.jupyter.widget-view+json": {
              "version_major": 2,
              "version_minor": 0,
              "model_id": "4e4e8cbc4a114e7f9c695c46231db519"
            }
          },
          "metadata": {}
        },
        {
          "output_type": "execute_result",
          "execution_count": null,
          "data": {
            "text/plain": "<function __main__.plot_likelihoods(x=500, y=3)>"
          },
          "metadata": {}
        }
      ],
      "execution_count": null,
      "metadata": {
        "noteable": {
          "cell_type": "code"
        },
        "ExecuteTime": {
          "end_time": "2023-07-28T10:31:33.318060+00:00",
          "start_time": "2023-07-28T10:31:32.723616+00:00"
        }
      },
      "id": "a9a99ad8-041d-40b3-ba40-2a8687c211d5"
    }
  ],
  "metadata": {
    "noteable-chatgpt": {
      "create_notebook": {
        "openai_conversation_id": "f999cfb4-e102-5e88-ba91-45fdc9444213",
        "openai_ephemeral_user_id": "8cdbef7c-565f-5513-b11b-0361a1e6596c",
        "openai_subdivision1_iso_code": "NO-46"
      }
    },
    "kernel_info": {
      "name": "python3"
    },
    "noteable": {
      "last_transaction_id": "e159753e-d59a-414c-9d79-ad29903ee093",
      "last_delta_id": "119d09ed-c965-45d4-be99-5cb6f245acef"
    },
    "kernelspec": {
      "display_name": "Python 3.9",
      "language": "python",
      "name": "python3"
    },
    "selected_hardware_size": "small",
    "nteract": {
      "version": "noteable@2.9.0"
    }
  },
  "nbformat": 4,
  "nbformat_minor": 5
}
